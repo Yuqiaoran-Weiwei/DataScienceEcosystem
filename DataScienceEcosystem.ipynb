{
 "cells": [
  {
   "cell_type": "markdown",
   "id": "c80d7e8c-914a-47ec-915f-ff87edf9c21c",
   "metadata": {},
   "source": [
    "# Data Science Tools and Ecosystem"
   ]
  },
  {
   "cell_type": "markdown",
   "id": "00f47155-6bca-4039-a494-7eab708e7ff6",
   "metadata": {},
   "source": [
    "In this notebook, Data Science Tools and Ecosystem are summarized."
   ]
  },
  {
   "cell_type": "markdown",
   "id": "e47395b7-e4cf-4fb7-84f4-f59b1221abbd",
   "metadata": {},
   "source": [
    "**Objectives:**\n",
    "* List popular languages for Data Science\n",
    "* List popular open source development tools for Data Science\n",
    "* Gain hands-on experience in Jupyter notebook"
   ]
  },
  {
   "cell_type": "markdown",
   "id": "26cf8c4d-8274-4d79-87a2-e738908a8e63",
   "metadata": {},
   "source": [
    "Some of the popular languages that Data Scientists use are:\n",
    "1. Python\n",
    "2. R\n",
    "3. Julia"
   ]
  },
  {
   "cell_type": "markdown",
   "id": "da1dda51-bb8d-4664-9278-dae9be31e71b",
   "metadata": {},
   "source": [
    "Some of the commonly used libraries used by Data Scientists include:\n",
    "1. Pandas\n",
    "2. Numpy\n",
    "3. Matplotlib"
   ]
  },
  {
   "cell_type": "markdown",
   "id": "eda62bbb-6614-44c0-9f78-e52ae2a8f82d",
   "metadata": {},
   "source": [
    "| Data Science Tools |\n",
    "| ------------------ |\n",
    "| Jupyter notebook |\n",
    "| Spyder |\n",
    "| Rstudio |"
   ]
  },
  {
   "cell_type": "markdown",
   "id": "1ab52c8e-fcc8-413a-bb7e-9df47c384c68",
   "metadata": {},
   "source": [
    "### Below are a few examples of evaluating arithmetic expressions in Python"
   ]
  },
  {
   "cell_type": "code",
   "execution_count": 4,
   "id": "550b806b-5a14-44fc-b8c8-71c6d3382cf6",
   "metadata": {},
   "outputs": [
    {
     "data": {
      "text/plain": [
       "17"
      ]
     },
     "execution_count": 4,
     "metadata": {},
     "output_type": "execute_result"
    }
   ],
   "source": [
    "# This a simple arithmetic expression to mutiply then add integers\n",
    "(3*4)+5"
   ]
  },
  {
   "cell_type": "code",
   "execution_count": 5,
   "id": "77ff0af0-b345-4f87-84ed-78e81c1a536c",
   "metadata": {},
   "outputs": [
    {
     "data": {
      "text/plain": [
       "33.333333333333336"
      ]
     },
     "execution_count": 5,
     "metadata": {},
     "output_type": "execute_result"
    }
   ],
   "source": [
    "# This will convert 200 minutes to hours by diving by 60\n",
    "200 / 6"
   ]
  },
  {
   "cell_type": "markdown",
   "id": "ecbfa9fa-1e0b-49a5-8ef8-dade8219d15e",
   "metadata": {},
   "source": [
    "## Author\n",
    "Weiwei"
   ]
  },
  {
   "cell_type": "code",
   "execution_count": null,
   "id": "28b74f02-6dde-40df-bfa4-82c5fd6a913d",
   "metadata": {},
   "outputs": [],
   "source": []
  },
  {
   "cell_type": "code",
   "execution_count": null,
   "id": "4d78249d-f844-42d5-bc55-8c5f24258500",
   "metadata": {},
   "outputs": [],
   "source": []
  },
  {
   "cell_type": "code",
   "execution_count": null,
   "id": "b6c45416-5848-49fb-9ffb-3e98afcb2956",
   "metadata": {},
   "outputs": [],
   "source": []
  },
  {
   "cell_type": "markdown",
   "id": "996413dc-7d87-4d1f-bd23-2d35a79cabcc",
   "metadata": {},
   "source": [
    "## Author\n",
    "Weiwei"
   ]
  }
 ],
 "metadata": {
  "kernelspec": {
   "display_name": "Python 3 (ipykernel)",
   "language": "python",
   "name": "python3"
  },
  "language_info": {
   "codemirror_mode": {
    "name": "ipython",
    "version": 3
   },
   "file_extension": ".py",
   "mimetype": "text/x-python",
   "name": "python",
   "nbconvert_exporter": "python",
   "pygments_lexer": "ipython3",
   "version": "3.11.7"
  }
 },
 "nbformat": 4,
 "nbformat_minor": 5
}
